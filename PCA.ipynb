{
 "cells": [
  {
   "cell_type": "code",
   "execution_count": 6,
   "id": "7afd7570-6f15-4cca-a3c3-fa2ae96067cc",
   "metadata": {},
   "outputs": [],
   "source": [
    "#PCA -> customer behaviour online platform\n",
    "#PCA -> Reduce dimensionality\n",
    "#Agenda -> segmenet customers to target marketing campaign."
   ]
  },
  {
   "cell_type": "code",
   "execution_count": 8,
   "id": "35b3b33c-296d-43ed-9eab-f82388171da4",
   "metadata": {},
   "outputs": [],
   "source": [
    "import pandas as pd\n",
    "# 5 customers , 5 features\n",
    "data = pd.DataFrame({\n",
    "    'Age': [32,60,45,32,31],\n",
    "    'AnnualIncome': [400000, 50000, 4000, 200000, 600000],\n",
    "    'SessionTime': [5,8,7,4,6],\n",
    "    'NumIteamPurchased': [3,6,7,2,8],\n",
    "    'Rating': [4.2,4.8,5,4.1,4.9]\n",
    "})"
   ]
  },
  {
   "cell_type": "code",
   "execution_count": 9,
   "id": "428dbdab-94a1-4b01-96cf-f6e1ab3e9099",
   "metadata": {},
   "outputs": [
    {
     "data": {
      "text/html": [
       "<div>\n",
       "<style scoped>\n",
       "    .dataframe tbody tr th:only-of-type {\n",
       "        vertical-align: middle;\n",
       "    }\n",
       "\n",
       "    .dataframe tbody tr th {\n",
       "        vertical-align: top;\n",
       "    }\n",
       "\n",
       "    .dataframe thead th {\n",
       "        text-align: right;\n",
       "    }\n",
       "</style>\n",
       "<table border=\"1\" class=\"dataframe\">\n",
       "  <thead>\n",
       "    <tr style=\"text-align: right;\">\n",
       "      <th></th>\n",
       "      <th>Age</th>\n",
       "      <th>AnnualIncome</th>\n",
       "      <th>SessionTime</th>\n",
       "      <th>NumIteamPurchased</th>\n",
       "      <th>Rating</th>\n",
       "    </tr>\n",
       "  </thead>\n",
       "  <tbody>\n",
       "    <tr>\n",
       "      <th>0</th>\n",
       "      <td>32</td>\n",
       "      <td>400000</td>\n",
       "      <td>5</td>\n",
       "      <td>3</td>\n",
       "      <td>4.2</td>\n",
       "    </tr>\n",
       "    <tr>\n",
       "      <th>1</th>\n",
       "      <td>60</td>\n",
       "      <td>50000</td>\n",
       "      <td>8</td>\n",
       "      <td>6</td>\n",
       "      <td>4.8</td>\n",
       "    </tr>\n",
       "    <tr>\n",
       "      <th>2</th>\n",
       "      <td>45</td>\n",
       "      <td>4000</td>\n",
       "      <td>7</td>\n",
       "      <td>7</td>\n",
       "      <td>5.0</td>\n",
       "    </tr>\n",
       "    <tr>\n",
       "      <th>3</th>\n",
       "      <td>32</td>\n",
       "      <td>200000</td>\n",
       "      <td>4</td>\n",
       "      <td>2</td>\n",
       "      <td>4.1</td>\n",
       "    </tr>\n",
       "    <tr>\n",
       "      <th>4</th>\n",
       "      <td>31</td>\n",
       "      <td>600000</td>\n",
       "      <td>6</td>\n",
       "      <td>8</td>\n",
       "      <td>4.9</td>\n",
       "    </tr>\n",
       "  </tbody>\n",
       "</table>\n",
       "</div>"
      ],
      "text/plain": [
       "   Age  AnnualIncome  SessionTime  NumIteamPurchased  Rating\n",
       "0   32        400000            5                  3     4.2\n",
       "1   60         50000            8                  6     4.8\n",
       "2   45          4000            7                  7     5.0\n",
       "3   32        200000            4                  2     4.1\n",
       "4   31        600000            6                  8     4.9"
      ]
     },
     "execution_count": 9,
     "metadata": {},
     "output_type": "execute_result"
    }
   ],
   "source": [
    "data"
   ]
  },
  {
   "cell_type": "code",
   "execution_count": 12,
   "id": "c61c0c80-cdfa-41bf-b2da-06c2951943a9",
   "metadata": {},
   "outputs": [
    {
     "name": "stdout",
     "output_type": "stream",
     "text": [
      "[[-0.71044483  0.66991049 -0.70710678 -0.95025527 -1.06904497]\n",
      " [ 1.77611208 -0.90159535  1.41421356  0.34554737  0.53452248]\n",
      " [ 0.44402802 -1.10813612  0.70710678  0.77748158  1.06904497]\n",
      " [-0.71044483 -0.22809285 -1.41421356 -1.38218948 -1.33630621]\n",
      " [-0.79925044  1.56791382  0.          1.2094158   0.80178373]]\n"
     ]
    }
   ],
   "source": [
    "#PCA -> sensitive to scale standardScaler()- scales each colum to mean = 0, std=1\n",
    "#Data standarization -> zero mean, unit variance\n",
    "\n",
    "from sklearn.preprocessing import StandardScaler\n",
    "\n",
    "scaler = StandardScaler()\n",
    "scaled_data = scaler.fit_transform(data)\n",
    "print(scaled_data)\n"
   ]
  },
  {
   "cell_type": "code",
   "execution_count": 16,
   "id": "f1d8849d-86d6-4c3b-86ca-69e4e9aab039",
   "metadata": {},
   "outputs": [
    {
     "data": {
      "text/plain": [
       "array([[-1.82290776, -0.07025882],\n",
       "       [ 2.22427575, -1.03234321],\n",
       "       [ 1.7438085 , -0.20311505],\n",
       "       [-2.28237969, -0.96842551],\n",
       "       [ 0.1372032 ,  2.27414259]])"
      ]
     },
     "execution_count": 16,
     "metadata": {},
     "output_type": "execute_result"
    }
   ],
   "source": [
    "# Applying PCA\n",
    "from sklearn.decomposition import PCA\n",
    "\n",
    "pca = PCA(n_components = 2) #2 principal compoments which are more relevant\n",
    "principal_components = pca.fit_transform(scaled_data)\n",
    "principal_components"
   ]
  },
  {
   "cell_type": "code",
   "execution_count": 18,
   "id": "f5ebbb59-0344-47cf-b1b6-7a4926c01883",
   "metadata": {},
   "outputs": [
    {
     "name": "stdout",
     "output_type": "stream",
     "text": [
      "[0.66157381 0.28885988]\n"
     ]
    }
   ],
   "source": [
    "#explained variance indicates the amount of variance captured by a single Principle Component\n",
    "#the higher the explained variance, the higher will be the information contained in those components.\n",
    "\n",
    "print(pca.explained_variance_ratio_)"
   ]
  },
  {
   "cell_type": "code",
   "execution_count": 21,
   "id": "00874190-171d-42c7-bbc1-68932cdb1dd3",
   "metadata": {},
   "outputs": [
    {
     "name": "stdout",
     "output_type": "stream",
     "text": [
      "        PC1       PC2\n",
      "0 -1.822908 -0.070259\n",
      "1  2.224276 -1.032343\n",
      "2  1.743808 -0.203115\n",
      "3 -2.282380 -0.968426\n",
      "4  0.137203  2.274143\n"
     ]
    }
   ],
   "source": [
    "result = pd.DataFrame(\n",
    "    principal_components,\n",
    "    columns = ['PC1','PC2']\n",
    ")\n",
    "print (result)"
   ]
  },
  {
   "cell_type": "code",
   "execution_count": 23,
   "id": "85f55bb2-391e-47c4-be40-57c54a5979f1",
   "metadata": {},
   "outputs": [
    {
     "data": {
      "image/png": "[encoded data removed]",
      "text/plain": [
       "<Figure size 640x480 with 1 Axes>"
      ]
     },
     "metadata": {},
     "output_type": "display_data"
    }
   ],
   "source": [
    "import matplotlib.pyplot as plt\n",
    "\n",
    "plt.scatter(result['PC1'], result['PC2'])\n",
    "plt.show()"
   ]
  },
  {
   "cell_type": "code",
   "execution_count": null,
   "id": "862a906a-43f9-4390-b4de-318099d7042e",
   "metadata": {},
   "outputs": [],
   "source": []
  }
 ],
 "metadata": {
  "kernelspec": {
   "display_name": "Python [conda env:base] *",
   "language": "python",
   "name": "conda-base-py"
  },
  "language_info": {
   "codemirror_mode": {
    "name": "ipython",
    "version": 3
   },
   "file_extension": ".py",
   "mimetype": "text/x-python",
   "name": "python",
   "nbconvert_exporter": "python",
   "pygments_lexer": "ipython3",
   "version": "3.12.7"
  }
 },
 "nbformat": 4,
 "nbformat_minor": 5
}
