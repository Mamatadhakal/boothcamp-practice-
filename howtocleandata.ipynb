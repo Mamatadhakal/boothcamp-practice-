{
 "cells": [
  {
   "cell_type": "markdown",
   "id": "72c3d198-6fbe-484f-b754-aeb676d5304a",
   "metadata": {},
   "source": [
    "This notebook shows how to clean data using pandas.It includes:\n",
    "\n",
    "Checking the CSV file\n",
    "Finding duplicates\n",
    "Handling missing values\n",
    "Removing unwanted columns\n",
    "Saving the cleaned file"
   ]
  },
  {
   "cell_type": "code",
   "execution_count": null,
   "id": "a3b44da8",
   "metadata": {},
   "outputs": [],
   "source": [
    "#Import required libraries\n",
    "import pandas as pd"
   ]
  },
  {
   "cell_type": "code",
   "execution_count": null,
   "id": "e91fbddf",
   "metadata": {},
   "outputs": [],
   "source": [
    "# Load the CSV file\n",
    "# Replace 'your_file.csv' with your CSV filename\n",
    "\n",
    "# Load CSV\n",
    "df = pd.read_csv('your_file.csv')\n",
    "\n",
    "# Show first few rows to inspect\n",
    "# if you want certain no of head write inside the paranthesis\n",
    "df.head()"
   ]
  },
  {
   "cell_type": "code",
   "execution_count": null,
   "id": "748df74a",
   "metadata": {},
   "outputs": [],
   "source": [
    "#Check the shape, columns, and general info\n",
    "\n",
    "print('Shape:', df.shape)\n",
    "print('Columns:', df.columns)\n",
    "df.info()"
   ]
  },
  {
   "cell_type": "code",
   "execution_count": null,
   "id": "e1a5b80e",
   "metadata": {},
   "outputs": [],
   "source": [
    "#heck for duplicates\n",
    "\n",
    "# Find duplicate rows\n",
    "duplicates = df[df.duplicated()]\n",
    "print(f'Number of duplicate rows: {len(duplicates)}')\n",
    "\n",
    "# If needed, remove duplicates\n",
    "df = df.drop_duplicates()"
   ]
  },
  {
   "cell_type": "code",
   "execution_count": null,
   "id": "29d2aa58",
   "metadata": {},
   "outputs": [],
   "source": [
    "# ✅ 5. Check for missing values\n",
    "\n",
    "# Count missing values in each column\n",
    "print(df.isnull().sum())"
   ]
  },
  {
   "cell_type": "code",
   "execution_count": null,
   "id": "0b10e994",
   "metadata": {},
   "outputs": [],
   "source": [
    "# Option A: Remove rows with missing values\n",
    "df_dropped = df.dropna()\n",
    "df_dropped.shape"
   ]
  },
  {
   "cell_type": "code",
   "execution_count": null,
   "id": "bcb361dd",
   "metadata": {},
   "outputs": [],
   "source": [
    "# Option B: Fill missing values with zero\n",
    "df_filled_zero = df.fillna(0)\n",
    "df_filled_zero.head()"
   ]
  },
  {
   "cell_type": "code",
   "execution_count": null,
   "id": "41dc7322",
   "metadata": {},
   "outputs": [],
   "source": [
    "# Option C: Fill numeric missing values with mean\n",
    "df_filled_mean = df.fillna(df.mean(numeric_only=True))\n",
    "df_filled_mean.head()"
   ]
  },
  {
   "cell_type": "code",
   "execution_count": null,
   "id": "b0d18e84",
   "metadata": {},
   "outputs": [],
   "source": [
    "# ✅ 6. Remove unwanted columns\n",
    "\n",
    "# Example: Drop a column named 'UnnecessaryColumn'\n",
    "# If you don't have such a column, skip this step\n",
    "\n",
    "# df = df.drop(['UnnecessaryColumn'], axis=1)"
   ]
  },
  {
   "cell_type": "code",
   "execution_count": null,
   "id": "4debe9b8",
   "metadata": {},
   "outputs": [],
   "source": [
    "# ✅ 7. Save the cleaned file\n",
    "\n",
    "# Save to a new CSV\n",
    "# Change 'cleaned_data.csv' to your preferred file name\n",
    "df.to_csv('cleaned_data.csv', index=False)"
   ]
  },
  {
   "cell_type": "markdown",
   "id": "0d0d7976",
   "metadata": {},
   "source": [
    "## ✅ Done!\n",
    "\n",
    "Now you have learned basic data cleaning steps:\n",
    "- Inspecting your data\n",
    "- Finding and removing duplicates\n",
    "- Handling missing values\n",
    "- Dropping unwanted columns\n",
    "- Saving the cleaned dataset\n",
    "\n",
    "Feel free to adjust these steps for your own project!"
   ]
  }
 ],
 "metadata": {
  "kernelspec": {
   "display_name": "Python [conda env:base] *",
   "language": "python",
   "name": "conda-base-py"
  },
  "language_info": {
   "codemirror_mode": {
    "name": "ipython",
    "version": 3
   },
   "file_extension": ".py",
   "mimetype": "text/x-python",
   "name": "python",
   "nbconvert_exporter": "python",
   "pygments_lexer": "ipython3",
   "version": "3.12.7"
  }
 },
 "nbformat": 4,
 "nbformat_minor": 5
}
