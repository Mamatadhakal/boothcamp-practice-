{
 "cells": [
  {
   "cell_type": "markdown",
   "id": "f72994a1-c4e2-4344-b442-0117efc00a44",
   "metadata": {},
   "source": [
    "Bank: Load Default Risk prediction\n",
    "- Age\n",
    "- Annual Income\n",
    "- City\n",
    "- Default"
   ]
  },
  {
   "cell_type": "code",
   "execution_count": 28,
   "id": "ce20b900-c740-4e74-a785-a3e46a9fc3dc",
   "metadata": {},
   "outputs": [],
   "source": [
    "import numpy as np\n",
    "import pandas as pd\n",
    "from sklearn.preprocessing import PolynomialFeatures\n"
   ]
  },
  {
   "cell_type": "code",
   "execution_count": 29,
   "id": "884c9f0c-56d9-41b7-9519-fa3fe49173d5",
   "metadata": {},
   "outputs": [],
   "source": [
    "np.random.seed(42) #can write any interger value in place of 42\n",
    "\n",
    "n_samples = 1000\n",
    "df = pd.DataFrame({\n",
    "    'age': np.random.randint(18,60, n_samples),\n",
    "    'income': np.random.randint(20_000, 150_000, n_samples),\n",
    "    'city': np.random.choice(['NY', 'Delhi', 'London'], n_samples),\n",
    "    'default': np.random.choice([0,1],n_samples,p=[0.85,0.15])\n",
    "})\n"
   ]
  },
  {
   "cell_type": "code",
   "execution_count": 30,
   "id": "251f3db3-b451-4a47-a965-38a7642852ba",
   "metadata": {},
   "outputs": [
    {
     "data": {
      "text/html": [
       "<div>\n",
       "<style scoped>\n",
       "    .dataframe tbody tr th:only-of-type {\n",
       "        vertical-align: middle;\n",
       "    }\n",
       "\n",
       "    .dataframe tbody tr th {\n",
       "        vertical-align: top;\n",
       "    }\n",
       "\n",
       "    .dataframe thead th {\n",
       "        text-align: right;\n",
       "    }\n",
       "</style>\n",
       "<table border=\"1\" class=\"dataframe\">\n",
       "  <thead>\n",
       "    <tr style=\"text-align: right;\">\n",
       "      <th></th>\n",
       "      <th>age</th>\n",
       "      <th>income</th>\n",
       "      <th>city</th>\n",
       "      <th>default</th>\n",
       "    </tr>\n",
       "  </thead>\n",
       "  <tbody>\n",
       "    <tr>\n",
       "      <th>0</th>\n",
       "      <td>56</td>\n",
       "      <td>146108</td>\n",
       "      <td>London</td>\n",
       "      <td>0</td>\n",
       "    </tr>\n",
       "    <tr>\n",
       "      <th>1</th>\n",
       "      <td>46</td>\n",
       "      <td>34382</td>\n",
       "      <td>Delhi</td>\n",
       "      <td>0</td>\n",
       "    </tr>\n",
       "    <tr>\n",
       "      <th>2</th>\n",
       "      <td>32</td>\n",
       "      <td>104291</td>\n",
       "      <td>Delhi</td>\n",
       "      <td>1</td>\n",
       "    </tr>\n",
       "    <tr>\n",
       "      <th>3</th>\n",
       "      <td>25</td>\n",
       "      <td>121195</td>\n",
       "      <td>NY</td>\n",
       "      <td>1</td>\n",
       "    </tr>\n",
       "    <tr>\n",
       "      <th>4</th>\n",
       "      <td>38</td>\n",
       "      <td>23756</td>\n",
       "      <td>Delhi</td>\n",
       "      <td>0</td>\n",
       "    </tr>\n",
       "  </tbody>\n",
       "</table>\n",
       "</div>"
      ],
      "text/plain": [
       "   age  income    city  default\n",
       "0   56  146108  London        0\n",
       "1   46   34382   Delhi        0\n",
       "2   32  104291   Delhi        1\n",
       "3   25  121195      NY        1\n",
       "4   38   23756   Delhi        0"
      ]
     },
     "execution_count": 30,
     "metadata": {},
     "output_type": "execute_result"
    }
   ],
   "source": [
    "df.head()"
   ]
  },
  {
   "cell_type": "code",
   "execution_count": 31,
   "id": "52ef31bd-fc9b-4204-abdc-0c9f2101b45c",
   "metadata": {},
   "outputs": [],
   "source": [
    "#converting categorical into numerocal representataion\n",
    "df['num_city'] = df['city'].map({'NY':1, 'Delhi':2,'London':3})"
   ]
  },
  {
   "cell_type": "code",
   "execution_count": 32,
   "id": "f11dd4c1-5c76-47b1-8251-f71b6bff5b1a",
   "metadata": {},
   "outputs": [
    {
     "data": {
      "text/html": [
       "<div>\n",
       "<style scoped>\n",
       "    .dataframe tbody tr th:only-of-type {\n",
       "        vertical-align: middle;\n",
       "    }\n",
       "\n",
       "    .dataframe tbody tr th {\n",
       "        vertical-align: top;\n",
       "    }\n",
       "\n",
       "    .dataframe thead th {\n",
       "        text-align: right;\n",
       "    }\n",
       "</style>\n",
       "<table border=\"1\" class=\"dataframe\">\n",
       "  <thead>\n",
       "    <tr style=\"text-align: right;\">\n",
       "      <th></th>\n",
       "      <th>age</th>\n",
       "      <th>income</th>\n",
       "      <th>city</th>\n",
       "      <th>default</th>\n",
       "      <th>num_city</th>\n",
       "    </tr>\n",
       "  </thead>\n",
       "  <tbody>\n",
       "    <tr>\n",
       "      <th>0</th>\n",
       "      <td>56</td>\n",
       "      <td>146108</td>\n",
       "      <td>London</td>\n",
       "      <td>0</td>\n",
       "      <td>3</td>\n",
       "    </tr>\n",
       "    <tr>\n",
       "      <th>1</th>\n",
       "      <td>46</td>\n",
       "      <td>34382</td>\n",
       "      <td>Delhi</td>\n",
       "      <td>0</td>\n",
       "      <td>2</td>\n",
       "    </tr>\n",
       "    <tr>\n",
       "      <th>2</th>\n",
       "      <td>32</td>\n",
       "      <td>104291</td>\n",
       "      <td>Delhi</td>\n",
       "      <td>1</td>\n",
       "      <td>2</td>\n",
       "    </tr>\n",
       "    <tr>\n",
       "      <th>3</th>\n",
       "      <td>25</td>\n",
       "      <td>121195</td>\n",
       "      <td>NY</td>\n",
       "      <td>1</td>\n",
       "      <td>1</td>\n",
       "    </tr>\n",
       "    <tr>\n",
       "      <th>4</th>\n",
       "      <td>38</td>\n",
       "      <td>23756</td>\n",
       "      <td>Delhi</td>\n",
       "      <td>0</td>\n",
       "      <td>2</td>\n",
       "    </tr>\n",
       "  </tbody>\n",
       "</table>\n",
       "</div>"
      ],
      "text/plain": [
       "   age  income    city  default  num_city\n",
       "0   56  146108  London        0         3\n",
       "1   46   34382   Delhi        0         2\n",
       "2   32  104291   Delhi        1         2\n",
       "3   25  121195      NY        1         1\n",
       "4   38   23756   Delhi        0         2"
      ]
     },
     "execution_count": 32,
     "metadata": {},
     "output_type": "execute_result"
    }
   ],
   "source": [
    "df.head()"
   ]
  },
  {
   "cell_type": "code",
   "execution_count": 33,
   "id": "42a17b97-405f-4142-a44d-e9e305f8dea3",
   "metadata": {},
   "outputs": [
    {
     "data": {
      "text/plain": [
       "array([[5.60000000e+01, 1.46108000e+05, 3.13600000e+03, 8.18204800e+06,\n",
       "        2.13475477e+10],\n",
       "       [4.60000000e+01, 3.43820000e+04, 2.11600000e+03, 1.58157200e+06,\n",
       "        1.18212192e+09],\n",
       "       [3.20000000e+01, 1.04291000e+05, 1.02400000e+03, 3.33731200e+06,\n",
       "        1.08766127e+10],\n",
       "       ...,\n",
       "       [4.60000000e+01, 1.45816000e+05, 2.11600000e+03, 6.70753600e+06,\n",
       "        2.12623059e+10],\n",
       "       [2.50000000e+01, 7.22690000e+04, 6.25000000e+02, 1.80672500e+06,\n",
       "        5.22280836e+09],\n",
       "       [2.20000000e+01, 5.85590000e+04, 4.84000000e+02, 1.28829800e+06,\n",
       "        3.42915648e+09]])"
      ]
     },
     "execution_count": 33,
     "metadata": {},
     "output_type": "execute_result"
    }
   ],
   "source": [
    "#finding non-Linear relationship -> Polynomial Features\n",
    "poly = PolynomialFeatures(degree = 2, include_bias = False)\n",
    "poly_features = poly.fit_transform(df[['age', 'income']])\n",
    "poly_features"
   ]
  },
  {
   "cell_type": "code",
   "execution_count": 39,
   "id": "4d108a61-c0b4-4403-b32e-104bf383a5d5",
   "metadata": {},
   "outputs": [
    {
     "data": {
      "text/html": [
       "<div>\n",
       "<style scoped>\n",
       "    .dataframe tbody tr th:only-of-type {\n",
       "        vertical-align: middle;\n",
       "    }\n",
       "\n",
       "    .dataframe tbody tr th {\n",
       "        vertical-align: top;\n",
       "    }\n",
       "\n",
       "    .dataframe thead th {\n",
       "        text-align: right;\n",
       "    }\n",
       "</style>\n",
       "<table border=\"1\" class=\"dataframe\">\n",
       "  <thead>\n",
       "    <tr style=\"text-align: right;\">\n",
       "      <th></th>\n",
       "      <th>age</th>\n",
       "      <th>income</th>\n",
       "      <th>age^2</th>\n",
       "      <th>age income</th>\n",
       "      <th>income^2</th>\n",
       "    </tr>\n",
       "  </thead>\n",
       "  <tbody>\n",
       "    <tr>\n",
       "      <th>0</th>\n",
       "      <td>56.0</td>\n",
       "      <td>146108.0</td>\n",
       "      <td>3136.0</td>\n",
       "      <td>8182048.0</td>\n",
       "      <td>2.134755e+10</td>\n",
       "    </tr>\n",
       "    <tr>\n",
       "      <th>1</th>\n",
       "      <td>46.0</td>\n",
       "      <td>34382.0</td>\n",
       "      <td>2116.0</td>\n",
       "      <td>1581572.0</td>\n",
       "      <td>1.182122e+09</td>\n",
       "    </tr>\n",
       "    <tr>\n",
       "      <th>2</th>\n",
       "      <td>32.0</td>\n",
       "      <td>104291.0</td>\n",
       "      <td>1024.0</td>\n",
       "      <td>3337312.0</td>\n",
       "      <td>1.087661e+10</td>\n",
       "    </tr>\n",
       "    <tr>\n",
       "      <th>3</th>\n",
       "      <td>25.0</td>\n",
       "      <td>121195.0</td>\n",
       "      <td>625.0</td>\n",
       "      <td>3029875.0</td>\n",
       "      <td>1.468823e+10</td>\n",
       "    </tr>\n",
       "    <tr>\n",
       "      <th>4</th>\n",
       "      <td>38.0</td>\n",
       "      <td>23756.0</td>\n",
       "      <td>1444.0</td>\n",
       "      <td>902728.0</td>\n",
       "      <td>5.643475e+08</td>\n",
       "    </tr>\n",
       "  </tbody>\n",
       "</table>\n",
       "</div>"
      ],
      "text/plain": [
       "    age    income   age^2  age income      income^2\n",
       "0  56.0  146108.0  3136.0   8182048.0  2.134755e+10\n",
       "1  46.0   34382.0  2116.0   1581572.0  1.182122e+09\n",
       "2  32.0  104291.0  1024.0   3337312.0  1.087661e+10\n",
       "3  25.0  121195.0   625.0   3029875.0  1.468823e+10\n",
       "4  38.0   23756.0  1444.0    902728.0  5.643475e+08"
      ]
     },
     "execution_count": 39,
     "metadata": {},
     "output_type": "execute_result"
    }
   ],
   "source": [
    "#finding non-Linear relationship -> Polynomial Features\n",
    "\n",
    "poly = PolynomialFeatures(degree=2, include_bias=False)\n",
    "poly_features = poly.fit_transform(df[['age', 'income']])\n",
    "poly_feature_names = poly.get_feature_names_out(['age', 'income'])\n",
    "\n",
    "df_poly = pd.DataFrame(poly_features, columns=poly_feature_names)\n",
    "df_poly.head()"
   ]
  },
  {
   "cell_type": "markdown",
   "id": "684599ca-31d5-41cc-9766-b5094a15dac6",
   "metadata": {},
   "source": [
    "Assumptions we are making ( why polynomial)\n",
    "# Older people have good income, but with age comes health risk\n",
    "# high income = better ability to replay the loans = bad habits or family responsibility ( hidden factors)\n",
    "# age, income, and [loan]... might not be in a linear relationship\n",
    "# As this is not linear, we need to build polynomial features to capture realistic patterns."
   ]
  },
  {
   "cell_type": "code",
   "execution_count": null,
   "id": "e557659a-a694-4426-85fe-e0942d766fe9",
   "metadata": {},
   "outputs": [],
   "source": [
    " "
   ]
  }
 ],
 "metadata": {
  "kernelspec": {
   "display_name": "Python [conda env:base] *",
   "language": "python",
   "name": "conda-base-py"
  },
  "language_info": {
   "codemirror_mode": {
    "name": "ipython",
    "version": 3
   },
   "file_extension": ".py",
   "mimetype": "text/x-python",
   "name": "python",
   "nbconvert_exporter": "python",
   "pygments_lexer": "ipython3",
   "version": "3.12.7"
  }
 },
 "nbformat": 4,
 "nbformat_minor": 5
}
