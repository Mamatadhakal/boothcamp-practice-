{
 "cells": [
  {
   "cell_type": "markdown",
   "id": "f2f83023-2ddf-4b9e-91b3-215b79bd5a87",
   "metadata": {},
   "source": [
    "Milestone 1"
   ]
  },
  {
   "cell_type": "markdown",
   "id": "804fa339-a74c-4b33-b15b-c7e1ed20ca21",
   "metadata": {},
   "source": [
    "1. Loaded the Dataset\n",
    "Imported a COVID-19 dataset from a trusted source in .csv \n",
    "\n",
    "LINK: https://ourworldindata.org/covid-cases\n",
    "\n",
    "In Power BI, this is done through:\n",
    "Home → Get Data → Text/CSV\n",
    "\n",
    "#In this step, we identify and resolve any inconsistencies in the dataset such as mismatched country names, inconsistent date formats, or misaligned column headers. This helps maintain data integrity for analysis."
   ]
  },
  {
   "cell_type": "markdown",
   "id": "4ae44a64-4a6f-46ca-9c74-bff91593b387",
   "metadata": {},
   "source": [
    "2. Removed unnecessary columns so that it will be easier to read and only kept necessary rows for data visaulaization\n",
    "#Here, we check for missing values and handle them using appropriate techniques like removing null rows or applying imputation methods such as filling with mean, median, or zero.\n",
    "\n",
    "fx = Table.RemoveColumns(#\"Replaced Value2\",{\"human_development_index\", \"hospital_beds_per_thousand\", \"diabetes_prevalence\", \"extreme_poverty\", \"life_expectancy\", \"gdp_per_capita\", \"median_age\", \"population_density\", \"handwashing_facilities\", \"new_cases_smoothed\", \"new_cases_smoothed_per_million\", \"new_deaths_smoothed\", \"new_deaths_smoothed_per_million\", \"excess_mortality_cumulative\", \"excess_mortality_cumulative_absolute\", \"excess_mortality_cumulative_per_million\", \"weekly_icu_admissions\", \"weekly_icu_admissions_per_million\", \"stringency_index\", \"reproduction_rate\", \"new_tests\", \"new_tests_smoothed\", \"new_tests_smoothed_per_thousand\", \"total_boosters\", \"new_vaccinations_smoothed\"})\n",
    "\n",
    "fx = Table.RemoveColumns(#\"Changed Type2\",{\"new_tests_per_thousand\"})\n",
    "\n",
    "fx = Table.RemoveColumns(#\"Replaced Value3\",{\"excess_mortality\"})\n",
    "\n",
    "fx = Table.RemoveColumns(#\"Renamed Columns\",{\"new_people_vaccinated_smoothed\", \"new_vaccinations_smoothed_per_million\", \"weekly_hosp_admissions\", \"weekly_hosp_admissions_per_million\"})\n"
   ]
  },
  {
   "cell_type": "markdown",
   "id": "c213a77c-7b2e-451b-91b5-a70d21310fef",
   "metadata": {},
   "source": [
    "3. Reordered the column just to organize the data in a readable structure.\n",
    "\n",
    "fx = Table.ReorderColumns(#\"Replaced Value7\",{\"country\", \"date\", \"total_cases\", \"new_cases\", \"total_cases_per_million\", \"new_cases_per_million\", \"total_deaths\", \"new_deaths\", \"total_deaths_per_million\", \"new_deaths_per_million\", \"hosp_patients\", \"hosp_patients_per_million\", \"weekly_hosp_admissions\", \"weekly_hosp_admissions_per_million\", \"icu_patients\", \"icu_patients_per_million\", \"total_tests\", \"total_tests_per_thousand\", \"positive_rate\", \"total_vaccinations\", \"people_vaccinated\", \"tests_per_case\", \"people_fully_vaccinated\", \"new_vaccinations\", \"total_vaccinations_per_hundred\", \"people_vaccinated_per_hundred\", \"people_fully_vaccinated_per_hundred\", \"total_boosters_per_hundred\", \"new_vaccinations_smoothed_per_million\", \"new_people_vaccinated_smoothed\", \"new_people_vaccinated_smoothed_per_hundred\", \"code\", \"continent\", \"population\"})"
   ]
  },
  {
   "cell_type": "markdown",
   "id": "1aa739f8-74b7-4a6f-8e46-5a1ad31f5e7b",
   "metadata": {},
   "source": [
    "4. Renamed Columns (for clarity and consistency)\n",
    "\n",
    "fx = Table.RenameColumns(#\"Changed Type6\",{{\"total_cases\", \"Total cases\"}, {\"new_cases\", \"new cases\"}, {\"total_cases_per_million\", \"total cases per million\"}, {\"new_cases_per_million\", \"new cases per million\"}, {\"total_deaths\", \"total death\"}, {\"total_deaths_per_million\", \"total death per million\"}, {\"people_fully_vaccinated_per_hundred\", \"people fully vacinated per hundred\"}, {\"total_vaccinations_per_hundred\", \"total vacination per hundred\"}, {\"hosp_patients\", \"Hospital patients\"}, {\"hosp_patients_per_million\", \"hospital patients per million\"}})"
   ]
  },
  {
   "cell_type": "markdown",
   "id": "c401389d-3942-48d6-99ae-80f24dcc4501",
   "metadata": {},
   "source": [
    "5. Changed Data Types and converted text columns into numeric types.\n",
    "This step involves formatting the data: converting column data types (e.g., dates as datetime objects), renaming columns for clarity, and ensuring consistency across all entries.\n",
    "\n",
    "fx = Table.TransformColumnTypes(#\"Changed Type\",{{\"hosp_patients\", Int64.Type}, {\"icu_patients\", Int64.Type}, {\"total_tests\", Int64.Type}, {\"positive_rate\", Int64.Type}, {\"people_vaccinated\", Int64.Type}, {\"people_fully_vaccinated\", Int64.Type}})\n"
   ]
  },
  {
   "cell_type": "markdown",
   "id": "ededc379-970d-46da-ba5f-a7a27c74b10b",
   "metadata": {},
   "source": [
    "6. Replaced Nulls 0 to avoid issues in calculations.\n",
    "   \n",
    "Why- Replaced missing values with 0 in relevant columns (cases, deaths, tests, etc.) to maintain data consistency.\n",
    "\n",
    "fx = Table.ReplaceValue(#\"Reordered Columns\",null,0,Replacer.ReplaceValue,{\"country\", \"date\", \"total_cases\", \"new_cases\", \"total_cases_per_million\", \"new_cases_per_million\", \"total_deaths\", \"new_deaths\", \"total_deaths_per_million\", \"new_deaths_per_million\", \"hosp_patients\", \"hosp_patients_per_million\", \"weekly_hosp_admissions\", \"weekly_hosp_admissions_per_million\", \"icu_patients\", \"icu_patients_per_million\", \"total_tests\", \"total_tests_per_thousand\", \"positive_rate\", \"total_vaccinations\", \"people_vaccinated\", \"tests_per_case\", \"people_fully_vaccinated\", \"new_vaccinations\", \"total_vaccinations_per_hundred\", \"people_vaccinated_per_hundred\", \"people_fully_vaccinated_per_hundred\", \"total_boosters_per_hundred\", \"new_vaccinations_smoothed_per_million\", \"new_people_vaccinated_smoothed\", \"new_people_vaccinated_smoothed_per_hundred\"})"
   ]
  },
  {
   "cell_type": "code",
   "execution_count": null,
   "id": "6776e75e-35d8-4bc2-b384-b1d8031c5378",
   "metadata": {},
   "outputs": [],
   "source": [
    "7. Created New year Columns\n",
    "Year = YEAR('covid data set'[Date])"
   ]
  },
  {
   "cell_type": "code",
   "execution_count": null,
   "id": "bcba6078-8f67-4a6f-91c5-8c051b2ff3f7",
   "metadata": {},
   "outputs": [],
   "source": [
    "8. Loaded Data into Power BI Model\n",
    "After cleaning in Power Query, you clicked apply and close to load the data. "
   ]
  },
  {
   "cell_type": "markdown",
   "id": "ad9ba86c-7f44-4756-9607-33e1de42f031",
   "metadata": {},
   "source": [
    "Milestone 2: Exploratory Data Analysis (EDA)\n"
   ]
  },
  {
   "cell_type": "code",
   "execution_count": null,
   "id": "ffbdc979-7a52-4bbf-a462-79df53e908ad",
   "metadata": {},
   "outputs": [],
   "source": [
    "#we calculate basic statistical measures such as mean, median, mode, standard deviation,and range to understand the distribution and central tendency of the data.\n",
    "#Various plots like histograms, line graphs, and bar charts are used to visualize trends in COVID-19 cases, deaths, and vaccinations. This helps in identifying patterns and outliers.\n",
    "#We analyze the correlation between variables such as total cases, deaths, and vaccination rates to uncover potential relationships or trends."
   ]
  },
  {
   "cell_type": "code",
   "execution_count": null,
   "id": "6880ff8d-1029-4ceb-bf89-7d04088a8527",
   "metadata": {},
   "outputs": [],
   "source": [
    "Death Rate = \n",
    "DIVIDE(\n",
    "    SUM('covid data set'[total_deaths]),\n",
    "    SUM('covid data set'[total_cases])\n",
    ") * 100"
   ]
  },
  {
   "cell_type": "code",
   "execution_count": null,
   "id": "ed1d6cc9-f97d-4ed8-b94e-8f64debf4dfb",
   "metadata": {},
   "outputs": [],
   "source": [
    "Vaccination Rate = \n",
    "DIVIDE(\n",
    "    SUM('covid data set'[people_fully_vaccinated]),\n",
    "    SUM('covid data set'[population])\n",
    ") * 100"
   ]
  },
  {
   "cell_type": "code",
   "execution_count": null,
   "id": "682d2140-2d56-45ba-bc56-3b88f9709270",
   "metadata": {},
   "outputs": [],
   "source": [
    "% Deaths = DIVIDE(SUM('covid data set'[total_deaths]), SUM('covid data set'[Population])) * 100"
   ]
  },
  {
   "cell_type": "code",
   "execution_count": null,
   "id": "7db3b5f7-e3d1-4384-a871-311ea470d50d",
   "metadata": {},
   "outputs": [],
   "source": [
    "% Hospital = DIVIDE(SUM('covid data set'[hosp_patients]), SUM('covid data set'[Population])) * 100"
   ]
  },
  {
   "cell_type": "code",
   "execution_count": null,
   "id": "0cbce437-e68d-4a38-b523-a64277680f43",
   "metadata": {},
   "outputs": [],
   "source": [
    "% ICU = DIVIDE(SUM('covid data set'[icu_patients]), SUM('covid data set'[Population])) * 100"
   ]
  },
  {
   "cell_type": "code",
   "execution_count": null,
   "id": "5dcafd0f-d2d4-4f95-a324-266bf11c1f21",
   "metadata": {},
   "outputs": [],
   "source": [
    "%positive = DIVIDE(SUM('covid data set'[total_cases]), SUM('covid data set'[Population])) * 100"
   ]
  },
  {
   "cell_type": "code",
   "execution_count": null,
   "id": "d418dad7-a168-4659-96ce-5d9b44b56196",
   "metadata": {},
   "outputs": [],
   "source": [
    "%TotalTests = DIVIDE(SUM('covid data set'[total_tests]), SUM('covid data set'[Population])) * 100"
   ]
  },
  {
   "cell_type": "code",
   "execution_count": null,
   "id": "14116edc-6b38-4683-9433-b13f87d36e82",
   "metadata": {},
   "outputs": [],
   "source": [
    "TotalPopulation = SUM('covid data set'[Population]) "
   ]
  },
  {
   "cell_type": "code",
   "execution_count": null,
   "id": "8947addb-b6c6-471d-abbe-e5dbf64cb30c",
   "metadata": {},
   "outputs": [],
   "source": [
    "FunnelPercentValue = \n",
    "SWITCH(\n",
    "    SELECTEDVALUE(FunnelStages[Stage]),\n",
    "    \"Population\", 100,\n",
    "    \"Total Tests\", [%TotalTests],\n",
    "    \"Total Cases\", [%Positive],\n",
    "    \"Hospital Patients\", [% Hospital],\n",
    "    \"ICU Patients\", [% ICU],\n",
    "    \"Deaths\", [% Deaths]\n",
    ")"
   ]
  }
 ],
 "metadata": {
  "kernelspec": {
   "display_name": "Python [conda env:base] *",
   "language": "python",
   "name": "conda-base-py"
  },
  "language_info": {
   "codemirror_mode": {
    "name": "ipython",
    "version": 3
   },
   "file_extension": ".py",
   "mimetype": "text/x-python",
   "name": "python",
   "nbconvert_exporter": "python",
   "pygments_lexer": "ipython3",
   "version": "3.12.7"
  }
 },
 "nbformat": 4,
 "nbformat_minor": 5
}
